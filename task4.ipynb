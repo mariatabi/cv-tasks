{
  "nbformat": 4,
  "nbformat_minor": 0,
  "metadata": {
    "colab": {
      "name": "task4.ipynb",
      "provenance": [],
      "collapsed_sections": [],
      "authorship_tag": "ABX9TyMdyk/n6957e6oPbr4SgHEV"
    },
    "kernelspec": {
      "name": "python3",
      "display_name": "Python 3"
    },
    "language_info": {
      "name": "python"
    }
  },
  "cells": [
    {
      "cell_type": "code",
      "metadata": {
        "id": "uuG5t7COz6U7"
      },
      "source": [
        "import matplotlib.pyplot as plt\n",
        "import numpy as np"
      ],
      "execution_count": 2,
      "outputs": []
    },
    {
      "cell_type": "code",
      "metadata": {
        "id": "1zs4HTWLz3v_",
        "colab": {
          "base_uri": "https://localhost:8080/",
          "height": 382
        },
        "outputId": "6e1b7173-0090-4129-bc84-cd92f631dc3e"
      },
      "source": [
        "def negate(B):\n",
        "    array = B.copy()\n",
        "    array[np.where(array == 1)] = -1\n",
        "    return array\n",
        "\n",
        "def check(B, y, x):\n",
        "    if not 0 <= x < B.shape[0]:\n",
        "        return False\n",
        "    if not 0 <= y < B.shape[1]:\n",
        "        return False\n",
        "    if B[y, x] != 0:\n",
        "        return True\n",
        "    return False\n",
        "\n",
        "def neighbors2(B, y, x):\n",
        "    left = y, x-1\n",
        "    top = y - 1, x\n",
        "    if not check(B, *left):\n",
        "        left = None\n",
        "    if not check(B, *top):\n",
        "        top = None\n",
        "    return left, top\n",
        "\n",
        "def exists(neighbors):\n",
        "    return not all([n is None for n in neighbors])\n",
        "\n",
        "def find(label, linked):\n",
        "    j = label\n",
        "    while linked[j] != 0:\n",
        "        j = linked[j]\n",
        "    return j\n",
        "\n",
        "def union(label1, label2, linked):\n",
        "    j = find(label1, linked)\n",
        "    k = find(label2, linked)\n",
        "    if j != k:\n",
        "        linked[k] = j\n",
        "        \n",
        "def relabel(image):\n",
        "    old=[]\n",
        "    for i in range(1,np.max(image)+1):\n",
        "        if i in image:\n",
        "            old.append(i)\n",
        "    new=[i for i in range(1,len(old)+1)]\n",
        "    for p, n in zip(old, new):\n",
        "        image = recolor(image, p, n)\n",
        "    return image\n",
        "\n",
        "def recolor(image, oldc, newc):\n",
        "    if oldc != newc:\n",
        "        for y in range(image.shape[0]):\n",
        "            for x in range(image.shape[1]):\n",
        "                if image[y,x] == oldc:\n",
        "                    image[y,x] = newc\n",
        "    return image\n",
        "\n",
        "\n",
        "def two_pass_labeling(B):\n",
        "    linked = np.zeros(len(B), dtype=\"uint\")\n",
        "    labels = np.zeros_like(B)\n",
        "    label = 1\n",
        "    for row in range(B.shape[0]):\n",
        "        for col in range(B.shape[1]):\n",
        "            if B[row, col] != 0:\n",
        "                n = neighbors2(B, row, col)\n",
        "                if not exists(n):\n",
        "                    m = label\n",
        "                    label += 1\n",
        "                else:\n",
        "                    lbs = [labels[i] for i in n if i is not None]\n",
        "                    m = min(lbs)\n",
        "                labels[row, col] = m\n",
        "                for i in n:\n",
        "                    if i is not None:\n",
        "                        lb = labels[i]\n",
        "                        if lb != m:\n",
        "                            union(m, lb, linked)\n",
        "    for row in range(B.shape[0]):\n",
        "        for col in range(B.shape[1]):\n",
        "            if B[row, col] != 0:\n",
        "                new_label = find(labels[row, col], linked)\n",
        "                if new_label != labels[row, col]:\n",
        "                    labels[row, col] = new_label\n",
        "    return relabel(labels)\n",
        "\n",
        "if __name__ == \"__main__\":\n",
        "    B = np.zeros((20, 20), dtype='int32')\n",
        "    \n",
        "    B[1:-1, -2] = 1\n",
        "    B[1, 1:5] = 1\n",
        "    B[1, 7:12] = 1\n",
        "    B[2, 1:3] = 1\n",
        "    B[2, 6:8] = 1\n",
        "    B[3:4, 1:7] = 1\n",
        "    \n",
        "    B[7:11, 11] = 1\n",
        "    B[7:11, 14] = 1\n",
        "    B[10:15, 10:15] = 1\n",
        "    \n",
        "    B[5:10, 5] = 1\n",
        "    B[5:10, 6] = 1\n",
        "\n",
        "    LB = two_pass_labeling(B)\n",
        "    \n",
        "    print(\"Labels - \", list(set(LB.ravel()))[1:])\n",
        "    \n",
        "    plt.figure(figsize=(12, 5))\n",
        "    plt.subplot(121)\n",
        "\n",
        "    plt.imshow(B, cmap=\"hot\")\n",
        "    plt.colorbar(ticks=range(int(2)))\n",
        "    plt.axis(\"off\")\n",
        "    plt.subplot(122)\n",
        "    \n",
        "    plt.imshow(LB.astype(\"uint8\"), cmap=\"hot\")\n",
        "    plt.colorbar()\n",
        "    plt.axis(\"off\")\n",
        "    plt.tight_layout()\n",
        "    plt.show()"
      ],
      "execution_count": 3,
      "outputs": [
        {
          "output_type": "stream",
          "name": "stdout",
          "text": [
            "Labels -  [1, 2, 3, 4]\n"
          ]
        },
        {
          "output_type": "display_data",
          "data": {
            "image/png": "[encoded data removed]",
            "text/plain": [
              "<Figure size 864x360 with 4 Axes>"
            ]
          },
          "metadata": {
            "needs_background": "light"
          }
        }
      ]
    },
    {
      "cell_type": "code",
      "metadata": {
        "id": "aQv9WMDeK-cO"
      },
      "source": [
        ""
      ],
      "execution_count": null,
      "outputs": []
    }
  ]
}