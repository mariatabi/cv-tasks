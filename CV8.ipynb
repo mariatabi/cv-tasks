{
  "nbformat": 4,
  "nbformat_minor": 0,
  "metadata": {
    "colab": {
      "name": "CV8.ipynb",
      "provenance": [],
      "authorship_tag": "ABX9TyPELKn/N/jLHz29fVZRLWU/"
    },
    "kernelspec": {
      "name": "python3",
      "display_name": "Python 3"
    },
    "language_info": {
      "name": "python"
    }
  },
  "cells": [
    {
      "cell_type": "code",
      "metadata": {
        "id": "_EurWysfsYkd"
      },
      "source": [
        "import matplotlib.pyplot as plt\n",
        "import numpy as np\n",
        "from skimage.measure import label, regionprops\n",
        "from skimage import color"
      ],
      "execution_count": 1,
      "outputs": []
    },
    {
      "cell_type": "code",
      "metadata": {
        "colab": {
          "base_uri": "https://localhost:8080/"
        },
        "id": "KVXsPtDVsTw6",
        "outputId": "1460b674-5d13-4c5a-8274-fb2ca779584f"
      },
      "source": [
        "image = plt.imread(\"balls_and_rects.png\")\n",
        "\n",
        "binary = image.copy()[:, :, 0]\n",
        "binary[binary > 0] = 1\n",
        "\n",
        "image = color.rgb2hsv(image)[:, :, 0]\n",
        "\n",
        "def centroid(lb, label=1):\n",
        "    pos = np.where(lb == label)\n",
        "\n",
        "    cy = np.mean(pos[0])\n",
        "    cx = np.mean(pos[1])\n",
        "\n",
        "    if cy == cx:\n",
        "        return 1\n",
        "    return 0\n",
        "\n",
        "def find_colors(arr):\n",
        "    orange = 0\n",
        "    yellow = 0\n",
        "    green = 0\n",
        "    blue = 0\n",
        "    magenta = 0\n",
        "    \n",
        "    for c in arr:\n",
        "        if c < 0.06:\n",
        "            orange += 1\n",
        "        if c > 0.06 and c < 0.2:\n",
        "            yellow += 1\n",
        "        if c > 0.2 and c < 0.42:\n",
        "            green += 1\n",
        "        if c > 0.42 and c < 0.62:\n",
        "            blue += 1\n",
        "\n",
        "    print(\"Yellow:\", yellow, \"Green:\", green, \"Orange:\", orange, \"Blue:\", blue)\n",
        "\n",
        "\n",
        "labeled = label(binary)\n",
        "\n",
        "colors = []\n",
        "balls = []\n",
        "rect = []\n",
        "\n",
        "for region in regionprops(labeled):\n",
        "    circ = region.perimeter ** 2 / region.area\n",
        "    \n",
        "    bb = region.bbox\n",
        "    val = np.max(image[bb[0]:bb[2], bb[1]:bb[3]])\n",
        "    \n",
        "    colors.append(val)\n",
        "    \n",
        "    if centroid(region.image) == 0:\n",
        "        rects.append(val)\n",
        "    else:\n",
        "        balls.append(val)\n",
        "\n",
        "colors.sort()\n",
        "rects.sort()\n",
        "balls.sort()\n",
        "\n",
        "print(\"Balls:\", len(balls))\n",
        "find_colors(balls)\n",
        "\n",
        "print(\"Rects:\", len(rect))\n",
        "find_colors(rect)\n",
        "\n",
        "print(\"All:\", np.max(labeled))"
      ],
      "execution_count": 6,
      "outputs": [
        {
          "output_type": "stream",
          "name": "stdout",
          "text": [
            "Balls: 136\n",
            "Yellow: 22 Green: 40 Orange: 18 Blue: 33\n",
            "Rects: 0\n",
            "Yellow: 0 Green: 0 Orange: 0 Blue: 0\n",
            "All: 257\n"
          ]
        }
      ]
    },
    {
      "cell_type": "code",
      "metadata": {
        "id": "LCZElh-FtYVe"
      },
      "source": [
        ""
      ],
      "execution_count": null,
      "outputs": []
    }
  ]
}