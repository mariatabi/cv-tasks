{
  "nbformat": 4,
  "nbformat_minor": 0,
  "metadata": {
    "colab": {
      "name": "CVgradient.ipynb",
      "provenance": [],
      "collapsed_sections": [],
      "authorship_tag": "ABX9TyNdJ7rE3Cfzj9yQRLG0nF9E"
    },
    "kernelspec": {
      "name": "python3",
      "display_name": "Python 3"
    },
    "language_info": {
      "name": "python"
    }
  },
  "cells": [
    {
      "cell_type": "code",
      "metadata": {
        "id": "zbOdAdo2nuPZ"
      },
      "source": [
        "import numpy as np\n",
        "import matplotlib.pyplot as plt"
      ],
      "execution_count": 1,
      "outputs": []
    },
    {
      "cell_type": "code",
      "metadata": {
        "id": "BXmpZhKzqZtF"
      },
      "source": [
        "import matplotlib.gridspec as gridspec"
      ],
      "execution_count": 2,
      "outputs": []
    },
    {
      "cell_type": "code",
      "metadata": {
        "colab": {
          "base_uri": "https://localhost:8080/",
          "height": 268
        },
        "id": "8uunmXRkoh9H",
        "outputId": "020a4226-a8e5-4c2d-8749-7d5eb2e4e3fb"
      },
      "source": [
        "def lerp(v0, v1, t):\n",
        "  return (1 - t) * v0 + t * v1\n",
        "\n",
        "size = 100\n",
        "image = np.zeros((size, size, 3), dtype =\"uint8\")\n",
        "assert image.shape[0] == image.shape[1]\n",
        "\n",
        "color1 = [255, 158, 0]\n",
        "color2 = [0, 158, 255]\n",
        "\n",
        "for i, v in enumerate(np.linspace(0, 1, image.shape[0])):\n",
        "  r = lerp(color1[0], color2[0], v)\n",
        "  g = lerp(color1[1], color2[1], v)\n",
        "  b = lerp(color1[2], color2[2], v)\n",
        "  image[i, :, :] = [r, g, b]\n",
        "\n",
        "plt.figure(1)\n",
        "plt.imshow(image)\n",
        "plt.show()"
      ],
      "execution_count": null,
      "outputs": [
        {
          "output_type": "display_data",
          "data": {
            "image/png": "[encoded data removed]",
            "text/plain": [
              "<Figure size 432x288 with 1 Axes>"
            ]
          },
          "metadata": {
            "needs_background": "light"
          }
        }
      ]
    },
    {
      "cell_type": "code",
      "metadata": {
        "colab": {
          "base_uri": "https://localhost:8080/",
          "height": 265
        },
        "id": "CcwfAA9ME-SE",
        "outputId": "25255776-ce38-435a-cc0c-a105376152c7"
      },
      "source": [
        "def diag_gradient(color1, color2, size):\n",
        "    image = np.zeros((size, size, 3), dtype=\"uint8\")\n",
        "    a = np.linspace(0, 1, image.shape[0]*2-1, endpoint=True)\n",
        "    for i in range(int(size)):\n",
        "        for j in range(int(size)):\n",
        "          v = a[i+j]\n",
        "          r = lerp(color1[0], color2[0], v)\n",
        "          g = lerp(color1[1], color2[1], v)\n",
        "          b = lerp(color1[2], color2[2], v)\n",
        "          image[i, j, :] = [r, g, b]\n",
        "    return image\n",
        "\n",
        "image = diag_gradient(color1, color2, size)\n",
        "\n",
        "plt.figure(1)\n",
        "plt.imshow(image)\n",
        "plt.show()"
      ],
      "execution_count": null,
      "outputs": [
        {
          "output_type": "display_data",
          "data": {
            "image/png": "[encoded data removed]",
            "text/plain": [
              "<Figure size 432x288 with 1 Axes>"
            ]
          },
          "metadata": {
            "needs_background": "light"
          }
        }
      ]
    }
  ]
}