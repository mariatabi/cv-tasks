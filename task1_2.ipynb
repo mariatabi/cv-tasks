{
  "nbformat": 4,
  "nbformat_minor": 0,
  "metadata": {
    "colab": {
      "name": "task1/2.ipynb",
      "provenance": [],
      "authorship_tag": "ABX9TyMqCpQ2a6haoYIz7C6GpU3I"
    },
    "kernelspec": {
      "name": "python3",
      "display_name": "Python 3"
    },
    "language_info": {
      "name": "python"
    }
  },
  "cells": [
    {
      "cell_type": "code",
      "metadata": {
        "colab": {
          "base_uri": "https://localhost:8080/"
        },
        "id": "y6QIlXjjyBd-",
        "outputId": "43ea5c79-78e9-40ea-ac07-68dd6a069cf6"
      },
      "source": [
        "import numpy as np\n",
        "import os\n",
        "import matplotlib.pyplot as plt\n",
        "\n",
        "\n",
        "def read_img(filename):\n",
        "    temp = []\n",
        "    lines = open(filename).readlines()\n",
        "    for line in lines[2:]:\n",
        "        temp.append(line.split())\n",
        "\n",
        "    return np.array(temp, dtype='int32')\n",
        "\n",
        "img1 = read_img('img1.txt')\n",
        "img2 = read_img('img2.txt')\n",
        "\n",
        "def find_first_point(img):\n",
        "    for y in range(img.shape[0]):\n",
        "        for x in range(img.shape[1]):\n",
        "            if img[y, x] == 1:\n",
        "                return y, x\n",
        "\n",
        "y1, x1 = find_first_point(img1)\n",
        "y2, x2 = find_first_point(img2)\n",
        "\n",
        "sy = y2-y1\n",
        "sx = x2-x1\n",
        "\n",
        "print(\"сдвиг по оси у =\", sy )\n",
        "print(\"по оси х = \", sx)"
      ],
      "execution_count": 2,
      "outputs": [
        {
          "output_type": "stream",
          "name": "stdout",
          "text": [
            "сдвиг по оси у = -4\n",
            "по оси х =  10\n"
          ]
        }
      ]
    },
    {
      "cell_type": "code",
      "metadata": {
        "id": "m5HcfDVYyl25"
      },
      "source": [
        ""
      ],
      "execution_count": null,
      "outputs": []
    }
  ]
}
