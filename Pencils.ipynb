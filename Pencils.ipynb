{
  "nbformat": 4,
  "nbformat_minor": 0,
  "metadata": {
    "colab": {
      "name": "Pencils.ipynb",
      "provenance": [],
      "authorship_tag": "ABX9TyN5LvlsFCxWCb0xWmWrmw4X"
    },
    "kernelspec": {
      "name": "python3",
      "display_name": "Python 3"
    },
    "language_info": {
      "name": "python"
    }
  },
  "cells": [
    {
      "cell_type": "code",
      "metadata": {
        "id": "Cvg11YyRlU_-"
      },
      "source": [
        "import numpy as np\n",
        "import matplotlib.pyplot as plt"
      ],
      "execution_count": 1,
      "outputs": []
    },
    {
      "cell_type": "code",
      "metadata": {
        "id": "_swG5Idws-Is"
      },
      "source": [
        "from scipy.ndimage import morphology\n",
        "from skimage.measure import label, regionprops\n",
        "from skimage.filters import threshold_triangle"
      ],
      "execution_count": 2,
      "outputs": []
    },
    {
      "cell_type": "code",
      "metadata": {
        "colab": {
          "base_uri": "https://localhost:8080/"
        },
        "id": "cBtAJ-63zOOb",
        "outputId": "029cc10e-d1c9-4645-e0e1-54012cf888d8"
      },
      "source": [
        "def toGray(image):\n",
        "    return (0.2989*image[:, :, 0]+0.587*image[:, :, 1]+0.114 * image[:, :, 2]).astype('uint8')\n",
        "\n",
        " \n",
        "def binarisation(image, limit_min, limit_max):\n",
        "    B = image.copy()\n",
        "    B[B <= limit_min] = 0\n",
        "    B[B >= limit_max] = 0\n",
        "    B[B > 0] = 1\n",
        "    return B\n",
        "\n",
        "def count(image):\n",
        "    gray = toGray(image)\n",
        "    thresh = threshold_triangle(gray)\n",
        "    binary = binarisation(gray, 0, thresh)\n",
        "\n",
        "    binary = morphology.binary_dilation(binary, iterations=5)\n",
        "\n",
        "    labeled = label(binary)\n",
        "    print(\"Max: \", np.max(labeled))\n",
        "\n",
        "    areas = []\n",
        "    for region in regionprops(labeled):\n",
        "        areas.append(region.area)\n",
        "\n",
        "    for region in regionprops(labeled):\n",
        "        if region.area < np.mean(areas):\n",
        "            labeled[labeled == region.label] = 0\n",
        "        bbox = region.bbox\n",
        "        if bbox[0] == 0 or bbox[1] == 0:\n",
        "            labeled[labeled == region.label] = 0\n",
        "\n",
        "    labeled[labeled > 0] = 1\n",
        "    labeled = label(labeled)\n",
        "\n",
        "    i = 1\n",
        "    n = 0\n",
        "    for region in regionprops(labeled):\n",
        "        if circularity(region, i) > 100 and  region.area > 330000 and region.area < 700000:\n",
        "            n+=1\n",
        "        i+=1\n",
        "    \n",
        "    print(\"pencils:\", n)\n",
        "    return n\n",
        "\n",
        "def circularity(region,label=1):\n",
        "    return (region.perimeter ** 2) / region.area\n",
        "\n",
        "all_pens = 0\n",
        "\n",
        "for p in range(1, 13):\n",
        "    constr = \"img (\" + str(p) + \").jpg\"\n",
        "    print(constr)\n",
        "    image = plt.imread(constr)\n",
        "    all_pens = all_pens + count(image)\n",
        "\n",
        "print(\"all pencils in every picture\", all_pens)"
      ],
      "execution_count": 9,
      "outputs": [
        {
          "output_type": "stream",
          "name": "stdout",
          "text": [
            "img (1).jpg\n",
            "Max:  141\n",
            "pencils: 0\n",
            "img (2).jpg\n",
            "Max:  135\n",
            "pencils: 1\n",
            "img (3).jpg\n",
            "Max:  112\n",
            "pencils: 1\n",
            "img (4).jpg\n",
            "Max:  148\n",
            "pencils: 2\n",
            "img (5).jpg\n",
            "Max:  136\n",
            "pencils: 2\n",
            "img (6).jpg\n",
            "Max:  216\n",
            "pencils: 3\n",
            "img (7).jpg\n",
            "Max:  257\n",
            "pencils: 3\n",
            "img (8).jpg\n",
            "Max:  370\n",
            "pencils: 1\n",
            "img (9).jpg\n",
            "Max:  99\n",
            "pencils: 2\n",
            "img (10).jpg\n",
            "Max:  194\n",
            "pencils: 2\n",
            "img (11).jpg\n",
            "Max:  111\n",
            "pencils: 3\n",
            "img (12).jpg\n",
            "Max:  135\n",
            "pencils: 1\n",
            "all pencils in every picture 21\n"
          ]
        }
      ]
    },
    {
      "cell_type": "code",
      "metadata": {
        "id": "_SUNbUiuq_bs"
      },
      "source": [
        ""
      ],
      "execution_count": null,
      "outputs": []
    }
  ]
}