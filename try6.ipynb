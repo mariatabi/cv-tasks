{
  "nbformat": 4,
  "nbformat_minor": 0,
  "metadata": {
    "colab": {
      "name": "try6.ipynb",
      "provenance": [],
      "authorship_tag": "ABX9TyNGFz3LqBHf0UkEnKEzpYUJ",
      "include_colab_link": true
    },
    "kernelspec": {
      "name": "python3",
      "display_name": "Python 3"
    },
    "language_info": {
      "name": "python"
    }
  },
  "cells": [
    {
      "cell_type": "markdown",
      "metadata": {
        "id": "view-in-github",
        "colab_type": "text"
      },
      "source": [
        "<a href=\"https://colab.research.google.com/github/mariatabi/cv-tasks/blob/main/try6.ipynb\" target=\"_parent\"><img src=\"https://colab.research.google.com/assets/colab-badge.svg\" alt=\"Open In Colab\"/></a>"
      ]
    },
    {
      "cell_type": "code",
      "metadata": {
        "id": "kCJbIW6_yMjW"
      },
      "source": [
        "import numpy as np\n",
        "import matplotlib.pyplot as plt\n",
        "from skimage.measure import label, regionprops"
      ],
      "execution_count": 1,
      "outputs": []
    },
    {
      "cell_type": "code",
      "metadata": {
        "colab": {
          "base_uri": "https://localhost:8080/",
          "height": 350
        },
        "id": "4PyWgxPvyXtF",
        "outputId": "7464efdc-e507-4d05-a700-73e7a03f8b34"
      },
      "source": [
        "def recognize(region):\n",
        "  if np.all(region.image):\n",
        "    return \"-\"\n",
        "  if lakes(region) == 2:\n",
        "    if has_vline(region):\n",
        "      return \"B\"\n",
        "    else:\n",
        "      return \"8\"\n",
        "  return None\n",
        "\n",
        "def lakes(region):\n",
        "  b = ~region.image # Инвертирование\n",
        "  lb = label(b)\n",
        "  regs = regionprops(lb)\n",
        "  count = 0\n",
        "  for reg in regs:\n",
        "    on_bound = False \n",
        "    for y,x in reg.coords:\n",
        "      if y == 0 or x == 0 or y == reg.image.shape[0] - 1 or x == reg.image.shape[1] - 1:\n",
        "        on_bound = True\n",
        "        break\n",
        "    if not on_bound:\n",
        "      count += 1\n",
        "  return count\n",
        "\n",
        "def has_vline(region):\n",
        "  lines = np.sum(region.image,0) // region.image.shape[0]\n",
        "  return 1 in lines\n",
        "\n",
        "\n",
        "image = plt.imread(\"symbols.png\")\n",
        "binary = np.sum(image, 2)\n",
        "binary[binary > 0] = 1 \n",
        "\n",
        "labeled = label(binary)\n",
        "print(\"All: \", np.max(labeled))\n",
        "\n",
        "regions = regionprops(labeled)\n",
        "\n",
        "print(regions[0].area)\n",
        "print(image.shape)\n",
        "\n",
        "d = { }\n",
        "\n",
        "for region in regions:\n",
        "  symbol = recognize(region)\n",
        "  if symbol not in d:\n",
        "    d[symbol] = 0\n",
        "  d[symbol] += 1\n",
        "\n",
        "print(d)\n",
        "print(\"Percent:\" ,round((1. - d[None] / sum(d.values())) *100,2))\n",
        "\n",
        "\n",
        "plt.imshow(regions[60].image)\n",
        "plt.show()\n",
        "\n",
        "#plt.imshow(regions[0].image, cmap = \"gray\")\n",
        "#plt.show()"
      ],
      "execution_count": 7,
      "outputs": [
        {
          "output_type": "stream",
          "name": "stdout",
          "text": [
            "All:  400\n",
            "190\n",
            "(2000, 2000, 3)\n",
            "{None: 358, '8': 8, '-': 31, 'B': 3}\n",
            "Percent: 10.5\n"
          ]
        },
        {
          "output_type": "display_data",
          "data": {
            "image/png": "[encoded data removed]",
            "text/plain": [
              "<Figure size 432x288 with 1 Axes>"
            ]
          },
          "metadata": {
            "needs_background": "light"
          }
        }
      ]
    },
    {
      "cell_type": "code",
      "metadata": {
        "id": "kC5mZolD02s3"
      },
      "source": [
        ""
      ],
      "execution_count": null,
      "outputs": []
    }
  ]
}