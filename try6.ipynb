{
  "nbformat": 4,
  "nbformat_minor": 0,
  "metadata": {
    "colab": {
      "name": "try6.ipynb",
      "provenance": [],
      "authorship_tag": "ABX9TyO+s4ky0OqJfMGrn0cYJmku",
      "include_colab_link": true
    },
    "kernelspec": {
      "name": "python3",
      "display_name": "Python 3"
    },
    "language_info": {
      "name": "python"
    }
  },
  "cells": [
    {
      "cell_type": "markdown",
      "metadata": {
        "id": "view-in-github",
        "colab_type": "text"
      },
      "source": [
        "<a href=\"https://colab.research.google.com/github/mariatabi/cv-tasks/blob/main/try6.ipynb\" target=\"_parent\"><img src=\"https://colab.research.google.com/assets/colab-badge.svg\" alt=\"Open In Colab\"/></a>"
      ]
    },
    {
      "cell_type": "code",
      "metadata": {
        "id": "kCJbIW6_yMjW"
      },
      "source": [
        "import numpy as np\n",
        "import matplotlib.pyplot as plt\n",
        "from skimage.measure import label, regionprops"
      ],
      "execution_count": 3,
      "outputs": []
    },
    {
      "cell_type": "code",
      "metadata": {
        "colab": {
          "base_uri": "https://localhost:8080/"
        },
        "id": "4PyWgxPvyXtF",
        "outputId": "9c2f9e62-d59f-4444-93bd-d9bbcea55e64"
      },
      "source": [
        "from scipy.ndimage import morphology\n",
        "from skimage.filters import threshold_triangle\n",
        "from skimage.filters import threshold_otsu\n",
        " \n",
        "def lakes(image):\n",
        "    B = ~image\n",
        "    BB = np.ones((B.shape[0] + 2, B.shape[1] + 2))\n",
        "    BB[1:-1, 1:-1] = B\n",
        "    return np.max(label(BB)) - 1\n",
        " \n",
        "def has_vline(image):\n",
        "    lines = np.sum(image, 0) // image.shape[0]\n",
        "    return 1 in lines\n",
        "\n",
        "def has_hline(image):\n",
        "    lines = np.sum(image, 1) // image.shape[1]\n",
        "    return 1 in lines\n",
        "\n",
        "def has_bay(image):\n",
        "    b = ~image\n",
        "    bb = np.zeros((b.shape[0] + 1, b.shape[1])).astype(\"uint8\")\n",
        "    bb[:-1, :] = b\n",
        "    return lakes(~bb) - 1\n",
        " \n",
        "def count_bays(image):\n",
        "    holes = ~image.copy()\n",
        "    return np.max(label(holes))\n",
        " \n",
        "def recognize(region):\n",
        "    bays = count_bays(region.image)\n",
        "    lc = lakes(region.image)\n",
        "    circ = region.perimeter ** 2 / region.area\n",
        "    if lc == 2:\n",
        "        if has_vline(region.image) and bays < 5:\n",
        "            return \"B\"\n",
        "        return \"8\"\n",
        "\n",
        "    if lc == 1:\n",
        "        if has_bay(region.image) > 0:\n",
        "            return \"A\"\n",
        "\n",
        "        if has_vline(region.image):\n",
        "            circ = region.perimeter ** 2 / region.area\n",
        "            if bays > 3:\n",
        "                return \"0\"\n",
        "            if (circ > 58):\n",
        "                return \"D\"\n",
        "            return\"P\"\n",
        "        return \"0\"\n",
        "            \n",
        "    if lc == 0:\n",
        "        if has_vline(region.image) and (bays == 0 or bays == 3):\n",
        "            if np.all(region.image == 1):\n",
        "                return \"-\"\n",
        "            return \"1\"\n",
        "        \n",
        "        if bays == 2:\n",
        "            return \"/\"\n",
        "\n",
        "        if bays > 3:\n",
        "            circ = region.perimeter ** 2 / region.area\n",
        "            if bays == 5:\n",
        "                if has_hline(region.image):\n",
        "                    return '*'\n",
        "                return 'W'\n",
        "            else: \n",
        "                if bays == 4 and circ > 40:\n",
        "                    return \"X\"\n",
        "                else:\n",
        "                    return \"*\"\n",
        "    return None\n",
        " \n",
        "def show_symbols(SYM, regions):\n",
        "    a, b, c = 1, 9, 1\n",
        "    for region in regions:\n",
        "        symbol = recognize(region)\n",
        "        if c == 10:\n",
        "            c = 1\n",
        "            a += 1\n",
        "\n",
        "        if a == 10:\n",
        "            a = 1\n",
        "            c += 1\n",
        "\n",
        "        if symbol == SYM:\n",
        "            case = str(a)+str(b)+str(c)\n",
        "            c += 1\n",
        " \n",
        "image = plt.imread(\"symbols.png\")\n",
        "image = np.sum(image, 2)\n",
        "image[image > 0] = 1\n",
        " \n",
        "labeled = label(image)\n",
        "print(\"labeled: \", np.max(labeled))\n",
        " \n",
        "regions = regionprops(labeled)\n",
        "d = {}\n",
        "for region in regions:\n",
        "    symbol = recognize(region)\n",
        "    if symbol not in d:\n",
        "        d[symbol] = 1\n",
        "    else:\n",
        "        d[symbol] += 1\n",
        " \n",
        "for key in d.keys():\n",
        "    print(\"symbol: \", key)\n",
        "    show_symbols(key, regions)\n",
        "    procent = d.get(key) / sum(d.values()) * 100\n",
        "    print(procent, \"%\")\n",
        "    \n",
        "    \n",
        "print(d)\n",
        "print(\"all: \", sum(d.values()))\n",
        "\n",
        "plt.show()\n",
        "#plt.figure()\n",
        "#plt.subplot(121)\n",
        "#plt.imshow(image)\n",
        "#plt.subplot(122)\n",
        "#plt.imshow(labeled)\n"
      ],
      "execution_count": 14,
      "outputs": [
        {
          "output_type": "stream",
          "name": "stdout",
          "text": [
            "labeled:  400\n",
            "symbol:  D\n",
            "7.75 %\n",
            "symbol:  X\n",
            "5.75 %\n",
            "symbol:  /\n",
            "8.75 %\n",
            "symbol:  *\n",
            "10.25 %\n",
            "symbol:  1\n",
            "10.0 %\n",
            "symbol:  A\n",
            "8.75 %\n",
            "symbol:  P\n",
            "9.25 %\n",
            "symbol:  8\n",
            "8.25 %\n",
            "symbol:  -\n",
            "7.75 %\n",
            "symbol:  B\n",
            "9.5 %\n",
            "symbol:  W\n",
            "6.5 %\n",
            "symbol:  0\n",
            "7.5 %\n",
            "{'D': 31, 'X': 23, '/': 35, '*': 41, '1': 40, 'A': 35, 'P': 37, '8': 33, '-': 31, 'B': 38, 'W': 26, '0': 30}\n",
            "all:  400\n"
          ]
        }
      ]
    },
    {
      "cell_type": "code",
      "metadata": {
        "id": "kC5mZolD02s3"
      },
      "source": [
        ""
      ],
      "execution_count": null,
      "outputs": []
    }
  ]
}