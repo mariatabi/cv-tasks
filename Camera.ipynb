{
  "nbformat": 4,
  "nbformat_minor": 0,
  "metadata": {
    "colab": {
      "name": "Camera.ipynb",
      "provenance": [],
      "authorship_tag": "ABX9TyOh/PvIwKmtbHoYg4wuRRNw",
      "include_colab_link": true
    },
    "kernelspec": {
      "name": "python3",
      "display_name": "Python 3"
    },
    "language_info": {
      "name": "python"
    }
  },
  "cells": [
    {
      "cell_type": "markdown",
      "metadata": {
        "id": "view-in-github",
        "colab_type": "text"
      },
      "source": [
        "<a href=\"https://colab.research.google.com/github/mariatabi/cv-tasks/blob/main/Camera.ipynb\" target=\"_parent\"><img src=\"https://colab.research.google.com/assets/colab-badge.svg\" alt=\"Open In Colab\"/></a>"
      ]
    },
    {
      "cell_type": "code",
      "execution_count": null,
      "metadata": {
        "id": "Jkyt3a_ip7v-"
      },
      "outputs": [],
      "source": [
        "import cv2\n",
        "import numpy as np\n",
        "\n",
        "cam = cv2.VideoCapture(0)\n",
        "cam.set(cv2.CAP_PROP_AUTO_EXPOSURE, -6)\n",
        "cv2.namedWindow(\"Camera\", cv2.WINDOW_KEEPRATIO)\n",
        "cv2.namedWindow(\"Cnts\", cv2.WINDOW_KEEPRATIO)\n",
        "\n",
        "lower = (20, 5, 100)\n",
        "upper = (100, 60, 190)\n",
        "\n",
        "while cam.isOpened():\n",
        "    _, image = cam.read()\n",
        "    hsv = cv2.cvtColor(image, cv2.COLOR_BGR2HSV)\n",
        "    blurred = cv2.GaussianBlur(hsv, (7, 7), 0)\n",
        "\n",
        "    mask = cv2.inRange(hsv, lower, upper)\n",
        "    mask = cv2.erode(mask, None, iterations=2)\n",
        "    mask = cv2.dilate(mask, None, iterations=2)\n",
        "    cnts = cv2.Canny(mask, 200, 300)\n",
        "\n",
        "    x, y, w, h = cv2.boundingRect(cnts)\n",
        "    list = cv2.rectangle(image, (x, y), (x + w, y + h), (255, 255, 255), 2)\n",
        "\n",
        "    key = cv2.waitKey(1)\n",
        "    if key == ord('q'):\n",
        "        break\n",
        "    cv2.imshow(\"Cnts\", cnts)\n",
        "    cv2.imshow(\"Camera\", image)\n",
        "\n",
        "cam.release()\n",
        "cv2.destroyAllWindows()"
      ]
    }
  ]
}