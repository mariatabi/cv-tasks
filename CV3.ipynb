{
  "nbformat": 4,
  "nbformat_minor": 0,
  "metadata": {
    "colab": {
      "name": "CV2.ipynb",
      "provenance": [],
      "collapsed_sections": [],
      "authorship_tag": "ABX9TyNMncJBjLTvcK6l0D/8m/CS"
    },
    "kernelspec": {
      "name": "python3",
      "display_name": "Python 3"
    },
    "language_info": {
      "name": "python"
    }
  },
  "cells": [
    {
      "cell_type": "code",
      "metadata": {
        "id": "wdv1bXh2Ah99"
      },
      "source": [
        "import matplotlib.pyplot as plt\n",
        "import numpy as np"
      ],
      "execution_count": null,
      "outputs": []
    },
    {
      "cell_type": "code",
      "metadata": {
        "colab": {
          "base_uri": "https://localhost:8080/",
          "height": 289
        },
        "id": "c7WAkwD3AssK",
        "outputId": "3fbc627b-c38c-455e-8430-708a8fc41ce7"
      },
      "source": [
        "figure1=np.array ([[1,1,1,1], [1,1,1,1], [0,0,1,1], [0,0,1,1], [1,1,1,1], [1,1,1,1]])\n",
        "\n",
        "figure2=np.array ([[1,1,1,1], [1,1,1,1], [1,1,0,0], [1,1,0,0], [1,1,1,1], [1,1,1,1]])\n",
        "\n",
        "figure3=np.array ([[1,1,1,1,1,1], [1,1,1,1,1,1], [1,1,1,1,1,1], [1,1,1,1,1,1]])\n",
        "\n",
        "figure4=np.array ([[1,1,0,0,1,1], [1,1,0,0,1,1], [1,1,1,1,1,1], [1,1,1,1,1,1]])\n",
        "\n",
        "figure5=np.array ([[1,1,1,1,1,1], [1,1,1,1,1,1], [1,1,0,0,1,1], [1,1,0,0,1,1]])\n",
        "\n",
        "arr = np.load(\"ps.npy.txt\")\n",
        "\n",
        "f1= morphology.binary_hit_or_miss(arr, figure1)\n",
        "f2= morphology.binary_hit_or_miss(arr, figure2)\n",
        "f3= morphology.binary_hit_or_miss(arr, figure3)\n",
        "f4= morphology.binary_hit_or_miss(arr, figure4)\n",
        "f5= morphology.binary_hit_or_miss(arr, figure5)\n",
        "\n",
        "print(np.sum(f1))\n",
        "print(np.sum(f2))\n",
        "print(np.sum(f3))\n",
        "print(np.sum(f4))\n",
        "print(np.sum(f5))\n",
        "\n",
        "plt.figure()\n",
        "ax1 = plt.subplot(121)\n",
        "plt.imshow(arr)\n",
        "plt.show()"
      ],
      "execution_count": null,
      "outputs": [
        {
          "output_type": "stream",
          "name": "stdout",
          "text": [
            "123\n",
            "94\n",
            "92\n",
            "95\n",
            "96\n"
          ]
        },
        {
          "output_type": "display_data",
          "data": {
            "image/png": "[encoded data removed]",
            "text/plain": [
              "<Figure size 432x288 with 1 Axes>"
            ]
          },
          "metadata": {
            "needs_background": "light"
          }
        }
      ]
    }
  ]
}