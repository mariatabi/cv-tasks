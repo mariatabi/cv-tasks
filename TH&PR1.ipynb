{
  "nbformat": 4,
  "nbformat_minor": 0,
  "metadata": {
    "colab": {
      "name": "TH&PR1.ipynb",
      "provenance": [],
      "authorship_tag": "ABX9TyP4imexf/97nljqhCh0zzVL"
    },
    "kernelspec": {
      "name": "python3",
      "display_name": "Python 3"
    },
    "language_info": {
      "name": "python"
    }
  },
  "cells": [
    {
      "cell_type": "markdown",
      "source": [
        "Task 1 "
      ],
      "metadata": {
        "id": "H5eJFX_3LJEB"
      }
    },
    {
      "cell_type": "code",
      "execution_count": 8,
      "metadata": {
        "colab": {
          "base_uri": "https://localhost:8080/"
        },
        "id": "HhjLUpu1J6bW",
        "outputId": "268d2bb2-410c-44a9-ce54-60b225274024"
      },
      "outputs": [
        {
          "output_type": "stream",
          "name": "stdout",
          "text": [
            "Введите первое число: 4\n",
            "Введите второе число: 2\n",
            "Операция (+, -, *, /): -\n",
            "Результат: 2.0\n"
          ]
        }
      ],
      "source": [
        "a = float(input(\"Введите первое число: \"))\n",
        "b = float(input(\"Введите второе число: \"))\n",
        "do = str(input(\"Операция (+, -, *, /): \"))\n",
        " \n",
        "if do == \"+\":\n",
        "    c = a+b\n",
        "    print(\"Результат: \" + str(c))\n",
        " \n",
        "elif do == \"-\":\n",
        "    c = a-b\n",
        "    print(\"Результат: \" + str(c))\n",
        " \n",
        "elif do == \"*\":\n",
        "    c = a*b\n",
        "    print(\"Результат: \" + str(c))\n",
        " \n",
        "elif do == \"/\":\n",
        "    if a == 0 or b == 0:\n",
        "        print(\"На ноль делить нельзя, Подумай\")\n",
        "    else:\n",
        "        c = a/b\n",
        "        print(\"Результат: \" +  str(c))"
      ]
    },
    {
      "cell_type": "markdown",
      "source": [
        "Task 2"
      ],
      "metadata": {
        "id": "Q9-nH4PqLRUc"
      }
    },
    {
      "cell_type": "code",
      "source": [
        "import collections\n",
        "\n",
        "s = input(\"Please input a word: \")\n",
        "\n",
        "counter = collections.Counter(s)\n",
        "\n",
        "consonants = 'bcdfghjklmnpqrstvwxyzBCDFGHJKLMNPQRSTVWXYZ'\n",
        "num_consonants = sum(counter[char] for char in consonants)\n",
        "\n",
        "vowels = 'aeiouAEIOU'\n",
        "num_vowels = sum(counter[char] for char in vowels)\n",
        "\n",
        "print('Vowels: ' + str(num_vowels) + ' Consonants: ' + str(num_consonants))"
      ],
      "metadata": {
        "colab": {
          "base_uri": "https://localhost:8080/"
        },
        "id": "Q0fsoToWKLuX",
        "outputId": "0ae95de4-d450-46bc-a6cd-bfb99965b32b"
      },
      "execution_count": 13,
      "outputs": [
        {
          "output_type": "stream",
          "name": "stdout",
          "text": [
            "Please input a word: hello\n",
            "Vowels: 2 Consonants: 3\n"
          ]
        }
      ]
    },
    {
      "cell_type": "markdown",
      "source": [
        "Task 3"
      ],
      "metadata": {
        "id": "XCafgJaSObKO"
      }
    },
    {
      "cell_type": "code",
      "source": [
        "a = open(\"words.txt\", \"r\").read()\n",
        "\n",
        "print(max(a.split(), key=len))\n"
      ],
      "metadata": {
        "colab": {
          "base_uri": "https://localhost:8080/"
        },
        "id": "NoxiF8ntMQ5E",
        "outputId": "f115ce22-879d-48bb-abc6-9b2fb5a54ee7"
      },
      "execution_count": 15,
      "outputs": [
        {
          "output_type": "stream",
          "name": "stdout",
          "text": [
            "Hello\n"
          ]
        }
      ]
    },
    {
      "cell_type": "markdown",
      "source": [
        "Task 4"
      ],
      "metadata": {
        "id": "H9j0dxBLPfT-"
      }
    },
    {
      "cell_type": "code",
      "source": [
        "import random\n",
        "import numpy as np\n",
        "from random import uniform\n",
        " \n",
        "arr = [uniform(-100, 100) for i in range(2)]\n",
        "print(arr)\n",
        "print(sorted(arr, key=lambda x: abs(x - int(x))))\n"
      ],
      "metadata": {
        "colab": {
          "base_uri": "https://localhost:8080/"
        },
        "id": "xiK_ifwfPW1j",
        "outputId": "a3d28966-8488-4248-f39d-47bbd333c0f3"
      },
      "execution_count": 17,
      "outputs": [
        {
          "output_type": "stream",
          "name": "stdout",
          "text": [
            "[-69.81635830372797, -30.16600516628216]\n",
            "[-30.16600516628216, -69.81635830372797]\n"
          ]
        }
      ]
    },
    {
      "cell_type": "markdown",
      "source": [
        "Task 5"
      ],
      "metadata": {
        "id": "SGnn1vGnP7YY"
      }
    },
    {
      "cell_type": "code",
      "source": [
        "from collections import Counter\n",
        "\n",
        "a = open(\"words.txt\", \"r\").read()\n",
        "\n",
        "counts=Counter(a)\n",
        "for i in a:\n",
        "    print(i,counts[i])\n"
      ],
      "metadata": {
        "colab": {
          "base_uri": "https://localhost:8080/"
        },
        "id": "V9IpJa2sP1EX",
        "outputId": "29a5cc1c-5968-463b-b7a1-c86f38a65838"
      },
      "execution_count": 20,
      "outputs": [
        {
          "output_type": "stream",
          "name": "stdout",
          "text": [
            "H 2\n",
            "e 6\n",
            "l 4\n",
            "l 4\n",
            "o 4\n",
            "! 1\n",
            "  11\n",
            "M 2\n",
            "y 2\n",
            "  11\n",
            "n 3\n",
            "a 5\n",
            "m 1\n",
            "e 6\n",
            "  11\n",
            "i 2\n",
            "s 2\n",
            "  11\n",
            "H 2\n",
            "a 5\n",
            "n 3\n",
            ". 2\n",
            "  11\n",
            "M 2\n",
            "y 2\n",
            "  11\n",
            "f 1\n",
            "a 5\n",
            "v 1\n",
            "o 4\n",
            "r 4\n",
            "i 2\n",
            "t 1\n",
            "e 6\n",
            "  11\n",
            "c 1\n",
            "o 4\n",
            "l 4\n",
            "o 4\n",
            "r 4\n",
            "s 2\n",
            "  11\n",
            "a 5\n",
            "r 4\n",
            "e 6\n",
            "  11\n",
            "b 1\n",
            "l 4\n",
            "u 1\n",
            "e 6\n",
            "  11\n",
            "a 5\n",
            "n 3\n",
            "d 2\n",
            "  11\n",
            "r 4\n",
            "e 6\n",
            "d 2\n",
            ". 2\n"
          ]
        }
      ]
    },
    {
      "cell_type": "code",
      "source": [
        ""
      ],
      "metadata": {
        "id": "6SeOBn2sQXcY"
      },
      "execution_count": null,
      "outputs": []
    }
  ]
}