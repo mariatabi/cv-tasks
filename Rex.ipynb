{
  "nbformat": 4,
  "nbformat_minor": 0,
  "metadata": {
    "colab": {
      "name": "Rex.ipynb",
      "provenance": [],
      "authorship_tag": "ABX9TyOEwysmyFxSJ8H1oJ9Hlh06"
    },
    "kernelspec": {
      "name": "python3",
      "display_name": "Python 3"
    },
    "language_info": {
      "name": "python"
    }
  },
  "cells": [
    {
      "cell_type": "code",
      "source": [
        "import time\n",
        "import cv2\n",
        "import numpy as np\n",
        "from mss import mss\n",
        "import pyautogui"
      ],
      "metadata": {
        "id": "4iOouACnvvHb"
      },
      "execution_count": null,
      "outputs": []
    },
    {
      "cell_type": "code",
      "execution_count": null,
      "metadata": {
        "id": "7IuVh0eLt_em"
      },
      "outputs": [],
      "source": [
        "x_dino = 210\n",
        "y_dino = 410\n",
        "\n",
        "cactus_width = 650\n",
        "cactus_height = 45\n",
        "\n",
        "def monitor_part(img):\n",
        "    cactus = img[y_dino:y_dino + cactus_height, x_dino:x_dino + cactus_width]\n",
        "    return cactus\n",
        "\n",
        "def watch(screen_tool):\n",
        "    img = cv2.imread(screen_tool.shot())\n",
        "    cactus = monitor_part(img)\n",
        "    cactus = img[y_dino:y_dino + cactus_height, x_dino:x_dino+cactus_width]\n",
        "\n",
        "    cactus_gray = cv2.cvtColor(cactus, cv2.COLOR_BGR2HSV)\n",
        "    ready_cactus = cv2.inRange(cactus_gray, np.array([0, 0, 0]), np.array([255, 255, 100]))\n",
        "    conts, hier = cv2.findContours(ready_cactus, cv2.RETR_EXTERNAL, cv2.CHAIN_APPROX_SIMPLE)\n",
        "\n",
        "    cv2.drawContours(cactus, conts, -1, (255,0,0), 3, cv2.LINE_AA, hier, 1 )\n",
        "\n",
        "    cv2.imwrite(\"cactus.png\", cactus)\n",
        "\n",
        "    if len(conts)>0:\n",
        "        pyautogui.keyDown('space')\n",
        "        return True\n",
        "    return False\n",
        "\n",
        "screen_tool = mss()\n",
        "\n",
        "x, y = pyautogui.position()\n",
        "pyautogui.click(x = 440, y = 420)\n",
        "count = 0\n",
        "\n",
        "while x < 1600:\n",
        "    img = cv2.imread(screen_tool.shot())\n",
        "\n",
        "    cactus = monitor_part(img)\n",
        "\n",
        "    cactus_gray = cv2.cvtColor(cactus, cv2.COLOR_BGR2HSV)\n",
        "    r_cactus  = cv2.inRange(cactus_gray, np.array([0, 0, 0]), np.array([255, 255, 100]))\n",
        "\n",
        "    conts, hi = cv2.findContours(r_cactus, cv2.RETR_EXTERNAL, cv2.CHAIN_APPROX_SIMPLE)\n",
        "\n",
        "    if len(conts) > 0:\n",
        "        pyautogui.keyDown('space')\n",
        "        time.sleep(0.05)\n",
        "        pyautogui.keyUp('down')\n",
        "        count += 1\n",
        "        print(\"jumping: \", count)\n",
        "\n",
        "    watch(screen_tool)\n",
        "\n",
        "    if watch(screen_tool) == True:\n",
        "        pyautogui.keyDown('space')\n",
        "        x, y = pyautogui.position()\n",
        "\n"
      ]
    }
  ]
}